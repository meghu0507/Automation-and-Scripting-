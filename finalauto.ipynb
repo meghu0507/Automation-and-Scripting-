{
 "cells": [
  {
   "cell_type": "code",
   "execution_count": 6,
   "id": "0d8ee509-039a-479e-ab62-052f82076f0d",
   "metadata": {},
   "outputs": [
    {
     "name": "stdout",
     "output_type": "stream",
     "text": [
      "['top_CLA8.v', 'top_CLA16.v', 'top_CLA32.v', 'PGGen.v', 'top_8_3_behav_enc.v', 'top_8_3_struct.v', 'top_rca.v', 'top_array_multiplier.v']\n",
      "top_CLA8.v\n",
      "top_CLA16.v\n",
      "top_CLA32.v\n",
      "PGGen.v\n",
      "top_8_3_behav_enc.v\n",
      "top_8_3_struct.v\n",
      "top_rca.v\n",
      "top_array_multiplier.v\n",
      "top_CLA8.v is Implmented and Reports are generated\n",
      "top_CLA16.v is Implmented and Reports are generated\n",
      "top_CLA32.v is Implmented and Reports are generated\n",
      "PGGen.v is Implmented and Reports are generated\n",
      "top_8_3_behav_enc.v is Implmented and Reports are generated\n",
      "top_8_3_struct.v is Implmented and Reports are generated\n",
      "top_rca.v is Implmented and Reports are generated\n",
      "top_array_multiplier.v is Implmented and Reports are generated\n"
     ]
    }
   ],
   "source": [
    "import os\n",
    "files = os.listdir(\"Modules\")  #to obtain the list of files present in the directory \"Module\" \n",
    "\n",
    "##print(files)\n",
    "\n",
    "top_modules = [file for file in files if \".v\" in file] # appending the .v extension files to variable files \n",
    "print(top_modules)\n",
    "\n",
    "##import os\n",
    "\n",
    "##Now making new project named mypro, name is hardcoded \n",
    "\n",
    "os.system(\"vivado -mode batch -source tc_add.tcl\")\n",
    "\n",
    "##Now adding the files to the project created above by passing the argument \n",
    "\n",
    "for filename in top_modules: \n",
    "    print(filename)\n",
    "    os.system(\"vivado -mode batch -source tc_open.tcl -tclargs {}\".format(filename))\n",
    "##for each file present in Modules Directory we are executing the tc_open.tcl script by passing the filename as command line argument  \n",
    "\n",
    "\n",
    "\n",
    "\n",
    "for filename in top_modules: \n",
    "    os.mkdir(\"Impl/\" + filename[:-2])\n",
    "   ##print(filename)\n",
    "    os.system(\"vivado -mode batch -source tc_run.tcl -tclargs {}\".format(filename))\n",
    "    print(\"{} is Implmented and Reports are generated\".format(filename))\n",
    "###for each file present in Modules Directory we are executing the tc_run.tcl script by passing the filename as command line argument  \n",
    "\n",
    "\n",
    "    "
   ]
  },
  {
   "cell_type": "code",
   "execution_count": 2,
   "id": "c55b247d-b892-4e24-92f5-8c4dae736aaa",
   "metadata": {},
   "outputs": [
    {
     "data": {
      "text/plain": [
       "'/home/vlsidesign18/Work/IC_Design_Automation/Scripting/myvivado'"
      ]
     },
     "execution_count": 2,
     "metadata": {},
     "output_type": "execute_result"
    }
   ],
   "source": [
    "os.getcwd()\n",
    "##Data Path Delay"
   ]
  },
  {
   "cell_type": "code",
   "execution_count": null,
   "id": "4b152a18-5932-4026-a26f-2c511d26a36a",
   "metadata": {},
   "outputs": [],
   "source": [
    "def search_time_file(time_file): \n",
    "    file = open(time_file,\"r\")\n",
    "    lines = file.readlines()\n",
    "    for line in lines:\n",
    "        if line.find(\"Data Path Delay) \n",
    "                     \n",
    "                     \n",
    "                     "
   ]
  }
 ],
 "metadata": {
  "kernelspec": {
   "display_name": "Python 3",
   "language": "python",
   "name": "python3"
  },
  "language_info": {
   "codemirror_mode": {
    "name": "ipython",
    "version": 3
   },
   "file_extension": ".py",
   "mimetype": "text/x-python",
   "name": "python",
   "nbconvert_exporter": "python",
   "pygments_lexer": "ipython3",
   "version": "3.6.8"
  }
 },
 "nbformat": 4,
 "nbformat_minor": 5
}
