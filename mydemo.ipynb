{
 "cells": [
  {
   "cell_type": "code",
   "execution_count": null,
   "id": "d2450734-75b5-48a6-8512-8fe635449b54",
   "metadata": {},
   "outputs": [],
   "source": [
    "import os \n",
    "import numpy as np\n",
    "import pandas as pd\n",
    "import matplotlib.pyplot as plt \n",
    "import datetime \n",
    "import glob \n",
    "import shutil \n",
    "os.getcwd()"
   ]
  },
  {
   "cell_type": "code",
   "execution_count": null,
   "id": "dc9cf1d9-63a5-46b1-9226-f3c6434aa94c",
   "metadata": {},
   "outputs": [],
   "source": [
    "## import os is used import the python as module to interact with Operating System in a platform independent way \n",
    "## os.getcwd() is used to get/find the current working directory \n",
    "os.mkdir(\"Modules\") \n",
    "os.getcwd()\n",
    "## os.mkdir is used to make directory "
   ]
  },
  {
   "cell_type": "code",
   "execution_count": 4,
   "id": "a9fa0eb5-9aef-4960-82a9-49381fd26fbb",
   "metadata": {},
   "outputs": [],
   "source": [
    "os.mkdir(\"Automation\")"
   ]
  },
  {
   "cell_type": "code",
   "execution_count": 11,
   "id": "cd69635e-a52d-4e49-8854-2956844ced46",
   "metadata": {},
   "outputs": [],
   "source": [
    "import glob \n",
    "import shutil \n",
    "dir_path = \"/home/vlsidesign18/Work/IC_Design_Automation/Scripting/myvivado/Modules\" \n",
    "extension = \".v\"\n",
    "source_dir = \"/home/vlsidesign18/Work/IC_Design_Automation/reference\" \n",
    "files = glob.glob(source_dir + \"/*\" + extension)\n",
    "for file in files: \n",
    "    shutil.copy(file, dir_path)\n",
    "    \n",
    "    \n",
    "##this block is for adding .v files in the Modules directory \n",
    "\n"
   ]
  },
  {
   "cell_type": "code",
   "execution_count": 14,
   "id": "8137d8d0-012f-493a-aa64-0e28e6927af0",
   "metadata": {},
   "outputs": [],
   "source": [
    "import glob \n",
    "import shutil \n",
    "dir_path1 = \"/home/vlsidesign18/Work/IC_Design_Automation/Scripting/myvivado\" \n",
    "extension1 = \".tcl\"\n",
    "source_dir1 = \"/home/vlsidesign18/Work/IC_Design_Automation/Scripting/Vivado\" \n",
    "files1 = glob.glob(source_dir1 + \"/*\" + extension1)\n",
    "for file in files1: \n",
    "    shutil.copy(file, dir_path1)\n",
    "    \n",
    "##/home/vlsidesign18/Work/IC_Design_Automation/Scripting/myvivado\n",
    "##/home/vlsidesign18/Work/IC_Design_Automation/Scripting/Vivado\n",
    "##this block is for adding .tcl files in the myvivado directory \n"
   ]
  },
  {
   "cell_type": "code",
   "execution_count": 15,
   "id": "faedd34e-ef24-4cb5-95c8-2096c3e5cd30",
   "metadata": {},
   "outputs": [
    {
     "data": {
      "text/plain": [
       "'/home/vlsidesign18/Work/IC_Design_Automation/Scripting/myvivado'"
      ]
     },
     "execution_count": 15,
     "metadata": {},
     "output_type": "execute_result"
    }
   ],
   "source": [
    "os.getcwd()\n"
   ]
  },
  {
   "cell_type": "code",
   "execution_count": 4,
   "id": "ec062412-63b9-4d4a-95f6-67a05ab818c1",
   "metadata": {},
   "outputs": [],
   "source": [
    "import os\n",
    "os.getcwd()\n",
    "os.mkdir(\"Impl\") "
   ]
  },
  {
   "cell_type": "code",
   "execution_count": null,
   "id": "36a34c75-c1e4-487c-becd-e4858ebde2cf",
   "metadata": {},
   "outputs": [],
   "source": []
  }
 ],
 "metadata": {
  "kernelspec": {
   "display_name": "Python 3",
   "language": "python",
   "name": "python3"
  },
  "language_info": {
   "codemirror_mode": {
    "name": "ipython",
    "version": 3
   },
   "file_extension": ".py",
   "mimetype": "text/x-python",
   "name": "python",
   "nbconvert_exporter": "python",
   "pygments_lexer": "ipython3",
   "version": "3.6.8"
  }
 },
 "nbformat": 4,
 "nbformat_minor": 5
}
